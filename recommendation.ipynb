{
 "cells": [
  {
   "cell_type": "code",
   "execution_count": 1,
   "metadata": {},
   "outputs": [],
   "source": [
    "import numpy as np\n",
    "import pandas as pd\n",
    "import re # import regex "
   ]
  },
  {
   "cell_type": "code",
   "execution_count": 2,
   "metadata": {},
   "outputs": [],
   "source": [
    "df = pd.read_csv('netflix_titles.csv')\n",
    "movies = np.array([{\"title\": row['title'], \"description\": row['description']} for _,row in df.iterrows()])[500:1000]"
   ]
  },
  {
   "cell_type": "code",
   "execution_count": 3,
   "metadata": {},
   "outputs": [],
   "source": [
    "\n",
    "def tokenize(text):\n",
    "    \"\"\"\n",
    "    Tokenizes the given text by splitting it into lowercase words.\n",
    "\n",
    "    Args:\n",
    "        text (str): The input text to be tokenized.\n",
    "\n",
    "    Returns:\n",
    "        list: A list of lowercase words extracted from the text.\n",
    "    \"\"\"\n",
    "    return [x for x in re.findall(r\"[a-z]+\", text.lower())]"
   ]
  },
  {
   "cell_type": "code",
   "execution_count": 4,
   "metadata": {},
   "outputs": [],
   "source": [
    "# tokenize the movie description and add it to our movie dictionaries\n",
    "for movie in movies:\n",
    "    movie[\"tokens\"] = tokenize(movie[\"description\"])"
   ]
  },
  {
   "cell_type": "code",
   "execution_count": 6,
   "metadata": {},
   "outputs": [],
   "source": [
    "def build_inverted_index(movies):\n",
    "    \"\"\"\n",
    "    Builds an inverted index from a list of movies.\n",
    "\n",
    "    Args:\n",
    "        movies (list): A list of movie dictionaries, where each dictionary contains a 'tokens' key\n",
    "                       representing the tokens in the movie.\n",
    "\n",
    "    Returns:\n",
    "        dict: The inverted index dictionary, where each key is a token and the corresponding value\n",
    "              is a list of tuples. Each tuple contains the index of the movie in the 'movies' list\n",
    "              and the count of the token in that movie.\n",
    "    \"\"\"\n",
    "\n",
    "    dic = {}\n",
    "    for idx, doc in enumerate(movies):\n",
    "        token_set = set(doc['tokens'])\n",
    "        for token in token_set:\n",
    "            if token not in dic:\n",
    "                dic[token] = [(idx, doc['tokens'].count(token))]\n",
    "            else:\n",
    "                dic[token].append((idx, doc['tokens'].count(token)))\n",
    "    return dic\n"
   ]
  },
  {
   "cell_type": "code",
   "execution_count": 7,
   "metadata": {},
   "outputs": [],
   "source": [
    "def compute_idf(inv_idx, n_docs):\n",
    "    \"\"\"\n",
    "    Compute the inverse document frequency (IDF) for each word in the given inverted index.\n",
    "\n",
    "    Parameters:\n",
    "    inv_idx (dict): The inverted index containing words as keys and their appearances as values.\n",
    "    n_docs (int): The total number of documents.\n",
    "\n",
    "    Returns:\n",
    "    dict: A dictionary containing words as keys and their corresponding IDF values.\n",
    "    \"\"\"\n",
    "\n",
    "    res = {}\n",
    "\n",
    "    for word, appearance in inv_idx.items():\n",
    "        df = len(appearance)\n",
    "        df_ratio = df / n_docs\n",
    "        \n",
    "        idf = np.log2(n_docs/ (1 + df))\n",
    "        res[word] = idf\n",
    "    return res\n",
    "    "
   ]
  },
  {
   "cell_type": "code",
   "execution_count": 8,
   "metadata": {},
   "outputs": [],
   "source": [
    "def compute_doc_norms(index, idf, n_docs):\n",
    "    \"\"\"\n",
    "    Compute the document norms based on the given index, inverse document frequency (idf), and number of documents (n_docs).\n",
    "\n",
    "    Parameters:\n",
    "    index (dict): A dictionary representing the index of words in the documents.\n",
    "    idf (dict): A dictionary representing the inverse document frequency of words.\n",
    "    n_docs (int): The total number of documents.\n",
    "\n",
    "    Returns:\n",
    "    numpy.ndarray: An array containing the computed document norms.\n",
    "    \"\"\"\n",
    "\n",
    "    res = np.zeros(n_docs)\n",
    "\n",
    "    for word, appearance in index.items():\n",
    "        if word in idf:\n",
    "            for doc_id, tf in appearance:\n",
    "                res[doc_id] += (tf * idf[word]) ** 2\n",
    "    return np.sqrt(res)\n"
   ]
  },
  {
   "cell_type": "code",
   "execution_count": 9,
   "metadata": {},
   "outputs": [],
   "source": [
    "def accumulate_dot_scores(query_word_counts, index, idf):\n",
    "    \"\"\"\n",
    "    Calculates the dot product scores between a query and documents in an index.\n",
    "\n",
    "    Args:\n",
    "        query_word_counts (dict): A dictionary containing the word counts of the query.\n",
    "        index (dict): A dictionary containing the index of documents and their word counts.\n",
    "        idf (dict): A dictionary containing the inverse document frequency (idf) values for each word.\n",
    "\n",
    "    Returns:\n",
    "        dict: A dictionary containing the accumulated dot product scores for each document in the index.\n",
    "    \"\"\"\n",
    "    dic = {}\n",
    "    for word, count in query_word_counts.items():\n",
    "        if word in index and word in idf:\n",
    "            query_tf = count * idf[word]\n",
    "\n",
    "            for id, doc_tf in index[word]:\n",
    "                product = query_tf * (doc_tf * idf[word])\n",
    "\n",
    "                if id in dic:\n",
    "                    dic[id] += product\n",
    "                else:\n",
    "                    dic[id] = product\n",
    "    return dic\n"
   ]
  },
  {
   "cell_type": "code",
   "execution_count": 10,
   "metadata": {},
   "outputs": [],
   "source": [
    "def search(query, index, idf, doc_norms, score_func=accumulate_dot_scores, tokenizer=tokenize):\n",
    "    \"\"\"\n",
    "    Search for documents based on a given query.\n",
    "\n",
    "    Args:\n",
    "        query (str): The query string to search for.\n",
    "        index (dict): The index of documents.\n",
    "        idf (dict): The inverse document frequency values.\n",
    "        doc_norms (dict): The document norms.\n",
    "        score_func (function, optional): The scoring function to calculate dot scores. Defaults to accumulate_dot_scores.\n",
    "        tokenizer (function, optional): The tokenizer function to tokenize the query. Defaults to tokenize.\n",
    "\n",
    "    Returns:\n",
    "        list: A list of tuples containing the score and document ID for each matching document.\n",
    "    \"\"\"\n",
    "    query = query.lower()\n",
    "    query_token = tokenizer(query)\n",
    "\n",
    "    q_counts = {}\n",
    "    for q in query_token:\n",
    "        q_counts[q] = q_counts.get(q, 0) + 1\n",
    "    \n",
    "    q_tf_idf = {word: count * idf.get(word, 0) for word, count in q_counts.items()}\n",
    "\n",
    "    q_norm = np.sqrt(sum(value ** 2 for value in q_tf_idf.values()))\n",
    "\n",
    "    dot_scores = score_func(q_counts, index, idf)\n",
    "\n",
    "    res = []\n",
    "\n",
    "    for id, numerator in dot_scores.items():\n",
    "        denominator = q_norm * doc_norms[id]\n",
    "        if denominator:\n",
    "            score = numerator / denominator\n",
    "            res.append((score, id))\n",
    "    res.sort(key = lambda x: -x[0])\n",
    "\n",
    "    return res"
   ]
  },
  {
   "cell_type": "code",
   "execution_count": 11,
   "metadata": {},
   "outputs": [],
   "source": [
    "inv_idx = build_inverted_index(movies) # build our inverted index\n",
    "\n",
    "idf = compute_idf(inv_idx, len(movies))\n",
    "\n",
    "inv_idx = {key: val for key, val in inv_idx.items() if key in idf}\n",
    "\n",
    "doc_norms = compute_doc_norms(inv_idx, idf, len(movies)) #normalize our documents"
   ]
  },
  {
   "cell_type": "code",
   "execution_count": 18,
   "metadata": {},
   "outputs": [],
   "source": [
    "results = search(\"Today is Sunday and I am hungry and tired and sleepy \", inv_idx, idf, doc_norms)"
   ]
  },
  {
   "cell_type": "code",
   "execution_count": 19,
   "metadata": {},
   "outputs": [],
   "source": [
    "ans = results[:10] # get the top 10 results"
   ]
  },
  {
   "cell_type": "code",
   "execution_count": 22,
   "metadata": {},
   "outputs": [
    {
     "name": "stdout",
     "output_type": "stream",
     "text": [
      "0.2588426360357845 : {'title': 'Bheeshma', 'description': 'Tired of being single, a smart-aleck meme creator has a chance to prove himself to the girl he loves when he is suddenly appointed CEO of her workplace.'}\n",
      "0.21307125991963727 : {'title': 'Best Leftovers Ever!', 'description': 'Decadent pasta from day-old fries? Skillful cooks transform tired leftovers into tantalizing new dishes in this wildly creative culinary competition.'}\n",
      "0.11789467510812163 : {'title': 'Badha', 'description': 'A young woman who is suspected of practicing black magic and witchcraft is demonized and forced to live apart from her family.'}\n",
      "0.07997631214893137 : {'title': 'Badla', 'description': 'When a woman is accused of killing her lover, a renowned lawyer is hired – but the more they try to  untangle the truth, the more convoluted it becomes.'}\n",
      "0.0647422053257477 : {'title': 'Animas', 'description': \"A teen's eerie visions become increasingly frequent and terrifying after her longtime friend gets a girlfriend and his abusive dad is strangely killed.\"}\n",
      "0.06101359980885169 : {'title': 'Apaches', 'description': 'A young journalist is forced into a life of crime to save his father and family in this series based on the novel by Miguel Sáez Carral.'}\n",
      "0.05905648669981323 : {'title': 'Bikram: Yogi, Guru, Predator', 'description': 'This documentary charts the rise and fall of hot yoga founder Bikram Choudhury as his global empire is born and disturbing revelations come to light.'}\n",
      "0.05886921540574562 : {'title': 'Barbie: Princess Charm School', 'description': 'Blair Willows is excited when she gets to go to Princess Charm School, where she meets princesses Delancy and Hadley, and searches for a magic crown.'}\n",
      "0.0548249045819635 : {'title': 'Billu', 'description': \"An Indian village is abuzz with news that a major movie star is coming to town – even more so because the town barber went to school with him. But as the day of the actor's visit approaches, the humble barber begins to worry he won't be recognized.\"}\n",
      "0.05356057786174139 : {'title': 'Angel Has Fallen', 'description': 'Secret Service agent Mike Banning is caught in the crossfire when he’s framed for a deadly attack on the president and forced to run for his life.'}\n"
     ]
    }
   ],
   "source": [
    "for score, id in ans:\n",
    "    print(score, \":\" , {'title': movies[id]['title'], 'description': movies[id][\"description\"]})"
   ]
  }
 ],
 "metadata": {
  "kernelspec": {
   "display_name": "Python 3",
   "language": "python",
   "name": "python3"
  },
  "language_info": {
   "codemirror_mode": {
    "name": "ipython",
    "version": 3
   },
   "file_extension": ".py",
   "mimetype": "text/x-python",
   "name": "python",
   "nbconvert_exporter": "python",
   "pygments_lexer": "ipython3",
   "version": "3.12.1"
  }
 },
 "nbformat": 4,
 "nbformat_minor": 2
}
